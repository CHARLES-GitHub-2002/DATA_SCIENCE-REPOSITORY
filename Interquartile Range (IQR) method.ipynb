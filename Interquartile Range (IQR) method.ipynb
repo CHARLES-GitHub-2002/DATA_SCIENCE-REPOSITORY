{
 "cells": [
  {
   "cell_type": "code",
   "execution_count": 1,
   "id": "24bfab39-1033-402c-87ee-d87df700b0ec",
   "metadata": {},
   "outputs": [],
   "source": [
    "import numpy as np\n",
    "import pandas as pd"
   ]
  },
  {
   "cell_type": "code",
   "execution_count": 3,
   "id": "bba91dcf-96ba-4c00-8ace-0781c14ea6a5",
   "metadata": {},
   "outputs": [],
   "source": [
    "np.random.seed(42)\n",
    "col_A=np.random.normal(loc=50,scale=5,size=100)\n",
    "col_B=np.random.normal(loc=30,scale=3,size=100)\n",
    "outliers_A=np.array([120,200,170])\n",
    "outliers_B=np.array([5,2,1])\n",
    "col_A_with_outliers=np.concatenate([col_A,outliers_A])\n",
    "col_B_with_outliers=np.concatenate([col_B,outliers_B])"
   ]
  },
  {
   "cell_type": "code",
   "execution_count": 4,
   "id": "72b0b6b5-b8ac-45c2-be47-ee6094fd2bd9",
   "metadata": {},
   "outputs": [],
   "source": [
    "df = pd.DataFrame({\n",
    "    'A': col_A_with_outliers,\n",
    "    'B': col_B_with_outliers\n",
    "})"
   ]
  },
  {
   "cell_type": "code",
   "execution_count": 9,
   "id": "2be0796d-8dba-43b9-a04d-d003cb359c38",
   "metadata": {},
   "outputs": [
    {
     "data": {
      "text/html": [
       "<div>\n",
       "<style scoped>\n",
       "    .dataframe tbody tr th:only-of-type {\n",
       "        vertical-align: middle;\n",
       "    }\n",
       "\n",
       "    .dataframe tbody tr th {\n",
       "        vertical-align: top;\n",
       "    }\n",
       "\n",
       "    .dataframe thead th {\n",
       "        text-align: right;\n",
       "    }\n",
       "</style>\n",
       "<table border=\"1\" class=\"dataframe\">\n",
       "  <thead>\n",
       "    <tr style=\"text-align: right;\">\n",
       "      <th></th>\n",
       "      <th>A</th>\n",
       "      <th>B</th>\n",
       "    </tr>\n",
       "  </thead>\n",
       "  <tbody>\n",
       "    <tr>\n",
       "      <th>0</th>\n",
       "      <td>52.483571</td>\n",
       "      <td>25.753888</td>\n",
       "    </tr>\n",
       "    <tr>\n",
       "      <th>1</th>\n",
       "      <td>49.308678</td>\n",
       "      <td>28.738064</td>\n",
       "    </tr>\n",
       "    <tr>\n",
       "      <th>2</th>\n",
       "      <td>53.238443</td>\n",
       "      <td>28.971856</td>\n",
       "    </tr>\n",
       "    <tr>\n",
       "      <th>3</th>\n",
       "      <td>57.615149</td>\n",
       "      <td>27.593168</td>\n",
       "    </tr>\n",
       "    <tr>\n",
       "      <th>4</th>\n",
       "      <td>48.829233</td>\n",
       "      <td>29.516143</td>\n",
       "    </tr>\n",
       "  </tbody>\n",
       "</table>\n",
       "</div>"
      ],
      "text/plain": [
       "           A          B\n",
       "0  52.483571  25.753888\n",
       "1  49.308678  28.738064\n",
       "2  53.238443  28.971856\n",
       "3  57.615149  27.593168\n",
       "4  48.829233  29.516143"
      ]
     },
     "execution_count": 9,
     "metadata": {},
     "output_type": "execute_result"
    }
   ],
   "source": [
    "df.head()"
   ]
  },
  {
   "cell_type": "code",
   "execution_count": 11,
   "id": "03e0a5b9-6ccb-4abe-9294-698630513be2",
   "metadata": {},
   "outputs": [
    {
     "data": {
      "text/plain": [
       "(103, 2)"
      ]
     },
     "execution_count": 11,
     "metadata": {},
     "output_type": "execute_result"
    }
   ],
   "source": [
    "df.shape"
   ]
  },
  {
   "cell_type": "markdown",
   "id": "229c7f19-c079-4aec-ab1d-b37903989b13",
   "metadata": {},
   "source": [
    "## IQR METHOD OF OUTLIER DETECTION"
   ]
  },
  {
   "cell_type": "markdown",
   "id": "dc3b0498-e83d-4bb5-9c32-5fadae93b29f",
   "metadata": {},
   "source": [
    "### IQR method\n",
    "In this method by using Inter Quartile Range(IQR), we detect outliers. IQR tells us the variation in the data set.Any value, which is beyond the range of -1.5 x IQR to 1.5 x IQR treated as outliers\n",
    "* Q1 represents the 1st quartile/25th percentile of the data.\n",
    "* Q2 represents the 2nd quartile/median/50th percentile of the data.\n",
    "* Q3 represents the 3rd quartile/75th percentile of the data.\n",
    "* (Q1–1.5 * IQR) represent the smallest value in the data set and (Q3+1.5*IQR) represnt the largest value in the data set."
   ]
  },
  {
   "cell_type": "code",
   "execution_count": 50,
   "id": "97e42e2c-3c28-4ec9-a70e-651eaad947e8",
   "metadata": {},
   "outputs": [
    {
     "name": "stdout",
     "output_type": "stream",
     "text": [
      "Outliers in column A: \n",
      "74      36.901274\n",
      "100    120.000000\n",
      "101    200.000000\n",
      "102    170.000000\n",
      "Name: A, dtype: float64\n",
      "\n",
      "Outliers in column B: \n",
      "79     38.160507\n",
      "100     5.000000\n",
      "101     2.000000\n",
      "102     1.000000\n",
      "Name: B, dtype: float64\n"
     ]
    }
   ],
   "source": [
    "\n",
    "def detect_outliers_iqr(column):\n",
    "    Q1=np.percentile(column,25)\n",
    "    Q3=np.percentile(column,75)\n",
    "    IQR=Q3 - Q1\n",
    "    lower_bound=Q1 - 1.5 * IQR\n",
    "    upper_bound=Q3 + 1.5 * IQR\n",
    "\n",
    "    outliers=column[(column<lower_bound) | (column>upper_bound)]\n",
    "    return outliers,lower_bound,upper_bound\n",
    "# Applying it to column A\n",
    "outliers_A,lb_A,up_A=detect_outliers_iqr(df['A'])\n",
    "print('Outliers in column A: ')\n",
    "print(outliers_A)\n",
    "\n",
    "# Applying it to column B\n",
    "outliers_A,lb_A,up_A=detect_outliers_iqr(df['B'])\n",
    "print('\\nOutliers in column B: ')\n",
    "print(outliers_B)"
   ]
  },
  {
   "cell_type": "code",
   "execution_count": 51,
   "id": "5523fc9b-1b58-4ddc-85e2-01eea38fb267",
   "metadata": {},
   "outputs": [],
   "source": [
    "import matplotlib.pyplot as plt\n",
    "import seaborn as sns"
   ]
  },
  {
   "cell_type": "code",
   "execution_count": 52,
   "id": "c657df3f-21d4-4329-a011-8a0eca148954",
   "metadata": {},
   "outputs": [
    {
     "data": {
      "image/png": "[encoded data removed]",
      "text/plain": [
       "<Figure size 1200x500 with 2 Axes>"
      ]
     },
     "metadata": {},
     "output_type": "display_data"
    }
   ],
   "source": [
    "# Setting up a side by side boxplots\n",
    "plt.figure(figsize=(12,5))\n",
    "# Boxplot for column A\n",
    "plt.subplot(1,2,1)\n",
    "sns.boxplot(data=df,y=df['A'],color='skyblue')\n",
    "plt.title('Boxplot for Column A')\n",
    "\n",
    "# Boxplot for column B\n",
    "plt.subplot(1,2,2)\n",
    "sns.boxplot(data=df,y=df['B'],color='salmon')\n",
    "plt.title('Boxplot for Column B')\n",
    "plt.show()"
   ]
  },
  {
   "cell_type": "code",
   "execution_count": 55,
   "id": "f05e667d-add8-491a-90d0-1b151a9cacaf",
   "metadata": {},
   "outputs": [],
   "source": [
    "## keeping the non_outliers\n",
    "df_cleaned=df[\n",
    "df['A'].between(lb_A,ub_A) &\n",
    "df['B'].between(lb_B,ub_B)\n",
    "]"
   ]
  },
  {
   "cell_type": "code",
   "execution_count": 56,
   "id": "f2509016-52db-4f72-8153-96a042c33483",
   "metadata": {},
   "outputs": [
    {
     "data": {
      "text/plain": [
       "(99, 2)"
      ]
     },
     "execution_count": 56,
     "metadata": {},
     "output_type": "execute_result"
    }
   ],
   "source": [
    "df_cleaned.shape"
   ]
  },
  {
   "cell_type": "code",
   "execution_count": 57,
   "id": "1643cdcc-64f9-43cf-95b9-f238be04079e",
   "metadata": {},
   "outputs": [
    {
     "name": "stdout",
     "output_type": "stream",
     "text": [
      "Original dataset size: 103 rows\n",
      "Cleaned dataset size: 99 rows\n"
     ]
    }
   ],
   "source": [
    "print(f\"Original dataset size: {df.shape[0]} rows\")\n",
    "print(f\"Cleaned dataset size: {df_cleaned.shape[0]} rows\")"
   ]
  },
  {
   "cell_type": "code",
   "execution_count": null,
   "id": "537cb570-2a11-4bb8-aa74-a4f0be4c5b62",
   "metadata": {},
   "outputs": [],
   "source": []
  }
 ],
 "metadata": {
  "kernelspec": {
   "display_name": "Python [conda env:base] *",
   "language": "python",
   "name": "conda-base-py"
  },
  "language_info": {
   "codemirror_mode": {
    "name": "ipython",
    "version": 3
   },
   "file_extension": ".py",
   "mimetype": "text/x-python",
   "name": "python",
   "nbconvert_exporter": "python",
   "pygments_lexer": "ipython3",
   "version": "3.12.7"
  }
 },
 "nbformat": 4,
 "nbformat_minor": 5
}
